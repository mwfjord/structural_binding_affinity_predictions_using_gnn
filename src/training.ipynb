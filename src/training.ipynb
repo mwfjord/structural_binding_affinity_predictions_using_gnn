{
 "cells": [
  {
   "cell_type": "code",
   "execution_count": 1,
   "metadata": {},
   "outputs": [],
   "source": [
    "# !conda install pytorch torchvision torchaudio pytorch-cuda=11.8 -c pytorch -c nvidia\n",
    "# !conda install pyg -c pyg\n",
    "# !conda install gemmi -c conda-forge\n",
    "# !conda install biopython"
   ]
  },
  {
   "cell_type": "code",
   "execution_count": 2,
   "metadata": {},
   "outputs": [],
   "source": [
    "import os\n",
    "import torch\n",
    "torch_version = torch.__version__.split(\"+\")\n",
    "os.environ[\"TORCH\"] = torch_version[0]\n",
    "os.environ[\"CUDA\"] = torch_version[1] if len(torch_version) > 1 else \"cu118\""
   ]
  },
  {
   "cell_type": "code",
   "execution_count": 3,
   "metadata": {},
   "outputs": [],
   "source": [
    "# %%capture\n",
    "# !pip install pyg-lib torch-scatter torch-sparse -f https://data.pyg.org/whl/torch-${TORCH}+${CUDA}.html\n",
    "# !pip install torch-geometric\n",
    "# !pip install wandb\n",
    "# !pip install plotly\n",
    "# !pip install --upgrade scipy\n",
    "# !wget \"https://gist.githubusercontent.com/mogproject/50668d3ca60188c50e6ef3f5f3ace101/raw/e11d5ac2b83fb03c0e5a9448ee3670b9dfcd5bf9/visualize.py\""
   ]
  },
  {
   "cell_type": "code",
   "execution_count": 4,
   "metadata": {},
   "outputs": [
    {
     "name": "stderr",
     "output_type": "stream",
     "text": [
      "\u001b[34m\u001b[1mwandb\u001b[0m: Currently logged in as: \u001b[33mmwfjord\u001b[0m to \u001b[32mhttps://api.wandb.ai\u001b[0m. Use \u001b[1m`wandb login --relogin`\u001b[0m to force relogin\n",
      "\u001b[34m\u001b[1mwandb\u001b[0m: Using wandb-core as the SDK backend.  Please refer to https://wandb.me/wandb-core for more information.\n"
     ]
    },
    {
     "data": {
      "text/html": [
       "Tracking run with wandb version 0.19.6"
      ],
      "text/plain": [
       "<IPython.core.display.HTML object>"
      ]
     },
     "metadata": {},
     "output_type": "display_data"
    },
    {
     "data": {
      "text/html": [
       "Run data is saved locally in <code>/home/marcus/programming/structural_binding_affinity_predictions_using_gnn/wandb/run-20250206_154244-r6td282a</code>"
      ],
      "text/plain": [
       "<IPython.core.display.HTML object>"
      ]
     },
     "metadata": {},
     "output_type": "display_data"
    },
    {
     "data": {
      "text/html": [
       "Syncing run <strong><a href='https://wandb.ai/mwfjord/structural_binding_affinity_predictions_using_gnn/runs/r6td282a' target=\"_blank\">Test_run</a></strong> to <a href='https://wandb.ai/mwfjord/structural_binding_affinity_predictions_using_gnn' target=\"_blank\">Weights & Biases</a> (<a href='https://wandb.me/developer-guide' target=\"_blank\">docs</a>)<br>"
      ],
      "text/plain": [
       "<IPython.core.display.HTML object>"
      ]
     },
     "metadata": {},
     "output_type": "display_data"
    },
    {
     "data": {
      "text/html": [
       " View project at <a href='https://wandb.ai/mwfjord/structural_binding_affinity_predictions_using_gnn' target=\"_blank\">https://wandb.ai/mwfjord/structural_binding_affinity_predictions_using_gnn</a>"
      ],
      "text/plain": [
       "<IPython.core.display.HTML object>"
      ]
     },
     "metadata": {},
     "output_type": "display_data"
    },
    {
     "data": {
      "text/html": [
       " View run at <a href='https://wandb.ai/mwfjord/structural_binding_affinity_predictions_using_gnn/runs/r6td282a' target=\"_blank\">https://wandb.ai/mwfjord/structural_binding_affinity_predictions_using_gnn/runs/r6td282a</a>"
      ],
      "text/plain": [
       "<IPython.core.display.HTML object>"
      ]
     },
     "metadata": {},
     "output_type": "display_data"
    },
    {
     "data": {
      "text/html": [
       "<button onClick=\"this.nextSibling.style.display='block';this.style.display='none';\">Display W&B run</button><iframe src='https://wandb.ai/mwfjord/structural_binding_affinity_predictions_using_gnn/runs/r6td282a?jupyter=true' style='border:none;width:100%;height:420px;display:none;'></iframe>"
      ],
      "text/plain": [
       "<wandb.sdk.wandb_run.Run at 0x7ef31b744e30>"
      ]
     },
     "execution_count": 4,
     "metadata": {},
     "output_type": "execute_result"
    }
   ],
   "source": [
    "import wandb\n",
    "use_wandb = True #@param {type:\"boolean\"}\n",
    "wandb_project = \"structural_binding_affinity_predictions_using_gnn\" #@param {type:\"string\"}\n",
    "wandb_run_name = \"Test_run\" #@param {type:\"string\"}\n",
    "\n",
    "wandb.init(project=wandb_project, name=wandb_run_name)"
   ]
  },
  {
   "cell_type": "code",
   "execution_count": 5,
   "metadata": {},
   "outputs": [
    {
     "name": "stderr",
     "output_type": "stream",
     "text": [
      "/home/marcus/miniconda3/lib/python3.12/site-packages/torch_geometric/typing.py:68: UserWarning: An issue occurred while importing 'pyg-lib'. Disabling its usage. Stacktrace: /home/marcus/miniconda3/lib/python3.12/site-packages/libpyg.so: undefined symbol: _ZNK5torch8autograd4Node4nameEv\n",
      "  warnings.warn(f\"An issue occurred while importing 'pyg-lib'. \"\n",
      "/home/marcus/miniconda3/lib/python3.12/site-packages/torch_geometric/typing.py:86: UserWarning: An issue occurred while importing 'torch-scatter'. Disabling its usage. Stacktrace: /home/marcus/miniconda3/lib/python3.12/site-packages/torch_scatter/_version_cuda.so: undefined symbol: _ZN5torch3jit17parseSchemaOrNameERKSsb\n",
      "  warnings.warn(f\"An issue occurred while importing 'torch-scatter'. \"\n",
      "/home/marcus/miniconda3/lib/python3.12/site-packages/torch_geometric/typing.py:97: UserWarning: An issue occurred while importing 'torch-cluster'. Disabling its usage. Stacktrace: /home/marcus/miniconda3/lib/python3.12/site-packages/torch_cluster/_version_cuda.so: undefined symbol: _ZN5torch3jit17parseSchemaOrNameERKSsb\n",
      "  warnings.warn(f\"An issue occurred while importing 'torch-cluster'. \"\n",
      "/home/marcus/miniconda3/lib/python3.12/site-packages/torch_geometric/typing.py:113: UserWarning: An issue occurred while importing 'torch-spline-conv'. Disabling its usage. Stacktrace: /home/marcus/miniconda3/lib/python3.12/site-packages/torch_spline_conv/_version_cuda.so: undefined symbol: _ZN5torch3jit17parseSchemaOrNameERKSsb\n",
      "  warnings.warn(\n",
      "/home/marcus/miniconda3/lib/python3.12/site-packages/torch_geometric/typing.py:124: UserWarning: An issue occurred while importing 'torch-sparse'. Disabling its usage. Stacktrace: /home/marcus/miniconda3/lib/python3.12/site-packages/torch_sparse/_version_cuda.so: undefined symbol: _ZN5torch3jit17parseSchemaOrNameERKSsb\n",
      "  warnings.warn(f\"An issue occurred while importing 'torch-sparse'. \"\n",
      "/home/marcus/miniconda3/lib/python3.12/site-packages/tqdm/auto.py:21: TqdmWarning: IProgress not found. Please update jupyter and ipywidgets. See https://ipywidgets.readthedocs.io/en/stable/user_install.html\n",
      "  from .autonotebook import tqdm as notebook_tqdm\n"
     ]
    }
   ],
   "source": [
    "import torch\n",
    "import torch_geometric\n",
    "import gemmi\n",
    "import Bio\n",
    "# General imports\n",
    "import os\n",
    "import json\n",
    "import collections\n",
    "\n",
    "# Data science imports\n",
    "import numpy as np\n",
    "import pandas as pd\n",
    "import matplotlib.pyplot as plt\n",
    "import seaborn as sns\n",
    "import plotly\n",
    "import scipy.sparse as sp\n",
    "\n",
    "# Import Weights & Biases for Experiment Tracking\n",
    "import wandb\n",
    "\n",
    "# Graph imports\n",
    "import torch\n",
    "from torch import Tensor\n",
    "import torch.nn.functional as F\n",
    "\n",
    "import torch_geometric\n",
    "from torch_geometric.nn import GCNConv\n",
    "from torch_geometric.utils import to_networkx\n",
    "\n",
    "import networkx as nx\n",
    "from networkx.algorithms import community\n",
    "\n",
    "from tqdm.auto import trange\n",
    "import torch.nn.functional as F\n",
    "from torch_geometric.nn import GCNConv, global_mean_pool\n",
    "from torch_geometric.loader import DataLoader"
   ]
  },
  {
   "cell_type": "code",
   "execution_count": 6,
   "metadata": {},
   "outputs": [
    {
     "name": "stderr",
     "output_type": "stream",
     "text": [
      "/tmp/ipykernel_1055226/2071289463.py:7: FutureWarning: You are using `torch.load` with `weights_only=False` (the current default value), which uses the default pickle module implicitly. It is possible to construct malicious pickle data which will execute arbitrary code during unpickling (See https://github.com/pytorch/pytorch/blob/main/SECURITY.md#untrusted-models for more details). In a future release, the default value for `weights_only` will be flipped to `True`. This limits the functions that could be executed during unpickling. Arbitrary objects will no longer be allowed to be loaded via this mode unless they are explicitly allowlisted by the user via `torch.serialization.add_safe_globals`. We recommend you start setting `weights_only=True` for any use case where you don't have full control of the loaded file. Please open an issue on GitHub for any issues related to this experimental feature.\n",
      "  train_dataset = torch.load(\"data/train_dataset.pt\")\n",
      "/tmp/ipykernel_1055226/2071289463.py:8: FutureWarning: You are using `torch.load` with `weights_only=False` (the current default value), which uses the default pickle module implicitly. It is possible to construct malicious pickle data which will execute arbitrary code during unpickling (See https://github.com/pytorch/pytorch/blob/main/SECURITY.md#untrusted-models for more details). In a future release, the default value for `weights_only` will be flipped to `True`. This limits the functions that could be executed during unpickling. Arbitrary objects will no longer be allowed to be loaded via this mode unless they are explicitly allowlisted by the user via `torch.serialization.add_safe_globals`. We recommend you start setting `weights_only=True` for any use case where you don't have full control of the loaded file. Please open an issue on GitHub for any issues related to this experimental feature.\n",
      "  val_dataset = torch.load(\"data/val_dataset.pt\")\n",
      "/tmp/ipykernel_1055226/2071289463.py:9: FutureWarning: You are using `torch.load` with `weights_only=False` (the current default value), which uses the default pickle module implicitly. It is possible to construct malicious pickle data which will execute arbitrary code during unpickling (See https://github.com/pytorch/pytorch/blob/main/SECURITY.md#untrusted-models for more details). In a future release, the default value for `weights_only` will be flipped to `True`. This limits the functions that could be executed during unpickling. Arbitrary objects will no longer be allowed to be loaded via this mode unless they are explicitly allowlisted by the user via `torch.serialization.add_safe_globals`. We recommend you start setting `weights_only=True` for any use case where you don't have full control of the loaded file. Please open an issue on GitHub for any issues related to this experimental feature.\n",
      "  test_dataset = torch.load(\"data/test_dataset.pt\")\n"
     ]
    },
    {
     "name": "stdout",
     "output_type": "stream",
     "text": [
      "[Data(x=[1779, 1], edge_index=[2, 43891], y=[1], pos=[1779, 3]), Data(x=[5059, 1], edge_index=[2, 128822], y=[1], pos=[5059, 3]), Data(x=[2599, 1], edge_index=[2, 65457], y=[1], pos=[2599, 3]), Data(x=[2189, 1], edge_index=[2, 54696], y=[1], pos=[2189, 3]), Data(x=[1369, 1], edge_index=[2, 32787], y=[1], pos=[1369, 3]), Data(x=[5059, 1], edge_index=[2, 128662], y=[1], pos=[5059, 3]), Data(x=[5059, 1], edge_index=[2, 128905], y=[1], pos=[5059, 3]), Data(x=[1369, 1], edge_index=[2, 32921], y=[1], pos=[1369, 3]), Data(x=[2599, 1], edge_index=[2, 65255], y=[1], pos=[2599, 3]), Data(x=[5059, 1], edge_index=[2, 124304], y=[1], pos=[5059, 3]), Data(x=[1779, 1], edge_index=[2, 43874], y=[1], pos=[1779, 3]), Data(x=[2189, 1], edge_index=[2, 54810], y=[1], pos=[2189, 3]), Data(x=[2599, 1], edge_index=[2, 65444], y=[1], pos=[2599, 3]), Data(x=[1779, 1], edge_index=[2, 43504], y=[1], pos=[1779, 3]), Data(x=[1369, 1], edge_index=[2, 32755], y=[1], pos=[1369, 3]), Data(x=[2189, 1], edge_index=[2, 54894], y=[1], pos=[2189, 3]), Data(x=[2189, 1], edge_index=[2, 54812], y=[1], pos=[2189, 3]), Data(x=[2599, 1], edge_index=[2, 65624], y=[1], pos=[2599, 3]), Data(x=[2599, 1], edge_index=[2, 65542], y=[1], pos=[2599, 3]), Data(x=[1369, 1], edge_index=[2, 32740], y=[1], pos=[1369, 3]), Data(x=[5059, 1], edge_index=[2, 128643], y=[1], pos=[5059, 3]), Data(x=[1369, 1], edge_index=[2, 32751], y=[1], pos=[1369, 3]), Data(x=[1369, 1], edge_index=[2, 32826], y=[1], pos=[1369, 3]), Data(x=[5059, 1], edge_index=[2, 128121], y=[1], pos=[5059, 3]), Data(x=[1779, 1], edge_index=[2, 43762], y=[1], pos=[1779, 3]), Data(x=[5059, 1], edge_index=[2, 129131], y=[1], pos=[5059, 3]), Data(x=[5059, 1], edge_index=[2, 128911], y=[1], pos=[5059, 3]), Data(x=[1369, 1], edge_index=[2, 32758], y=[1], pos=[1369, 3]), Data(x=[2189, 1], edge_index=[2, 54926], y=[1], pos=[2189, 3]), Data(x=[2189, 1], edge_index=[2, 54761], y=[1], pos=[2189, 3]), Data(x=[5059, 1], edge_index=[2, 128834], y=[1], pos=[5059, 3]), Data(x=[2599, 1], edge_index=[2, 65343], y=[1], pos=[2599, 3]), Data(x=[5059, 1], edge_index=[2, 128706], y=[1], pos=[5059, 3]), Data(x=[1779, 1], edge_index=[2, 43798], y=[1], pos=[1779, 3]), Data(x=[1369, 1], edge_index=[2, 32727], y=[1], pos=[1369, 3]), Data(x=[2189, 1], edge_index=[2, 54302], y=[1], pos=[2189, 3]), Data(x=[1369, 1], edge_index=[2, 32844], y=[1], pos=[1369, 3]), Data(x=[1779, 1], edge_index=[2, 43964], y=[1], pos=[1779, 3]), Data(x=[1369, 1], edge_index=[2, 32618], y=[1], pos=[1369, 3]), Data(x=[2189, 1], edge_index=[2, 54750], y=[1], pos=[2189, 3]), Data(x=[2599, 1], edge_index=[2, 65374], y=[1], pos=[2599, 3]), Data(x=[1369, 1], edge_index=[2, 33013], y=[1], pos=[1369, 3]), Data(x=[2599, 1], edge_index=[2, 65773], y=[1], pos=[2599, 3]), Data(x=[2189, 1], edge_index=[2, 54710], y=[1], pos=[2189, 3]), Data(x=[2189, 1], edge_index=[2, 54699], y=[1], pos=[2189, 3]), Data(x=[1779, 1], edge_index=[2, 43660], y=[1], pos=[1779, 3]), Data(x=[1369, 1], edge_index=[2, 32814], y=[1], pos=[1369, 3]), Data(x=[1779, 1], edge_index=[2, 43495], y=[1], pos=[1779, 3]), Data(x=[5059, 1], edge_index=[2, 129299], y=[1], pos=[5059, 3]), Data(x=[1779, 1], edge_index=[2, 43484], y=[1], pos=[1779, 3]), Data(x=[2599, 1], edge_index=[2, 65164], y=[1], pos=[2599, 3]), Data(x=[2599, 1], edge_index=[2, 65392], y=[1], pos=[2599, 3]), Data(x=[1779, 1], edge_index=[2, 44123], y=[1], pos=[1779, 3]), Data(x=[5059, 1], edge_index=[2, 128782], y=[1], pos=[5059, 3]), Data(x=[2189, 1], edge_index=[2, 54796], y=[1], pos=[2189, 3]), Data(x=[2189, 1], edge_index=[2, 54731], y=[1], pos=[2189, 3]), Data(x=[1779, 1], edge_index=[2, 43996], y=[1], pos=[1779, 3]), Data(x=[2599, 1], edge_index=[2, 65105], y=[1], pos=[2599, 3]), Data(x=[5059, 1], edge_index=[2, 128731], y=[1], pos=[5059, 3]), Data(x=[1779, 1], edge_index=[2, 43728], y=[1], pos=[1779, 3]), Data(x=[5059, 1], edge_index=[2, 128193], y=[1], pos=[5059, 3]), Data(x=[5059, 1], edge_index=[2, 128453], y=[1], pos=[5059, 3]), Data(x=[2189, 1], edge_index=[2, 54848], y=[1], pos=[2189, 3]), Data(x=[5059, 1], edge_index=[2, 128257], y=[1], pos=[5059, 3]), Data(x=[2599, 1], edge_index=[2, 65366], y=[1], pos=[2599, 3]), Data(x=[2599, 1], edge_index=[2, 65128], y=[1], pos=[2599, 3]), Data(x=[1369, 1], edge_index=[2, 32881], y=[1], pos=[1369, 3]), Data(x=[5059, 1], edge_index=[2, 128857], y=[1], pos=[5059, 3]), Data(x=[1369, 1], edge_index=[2, 32920], y=[1], pos=[1369, 3]), Data(x=[5059, 1], edge_index=[2, 128619], y=[1], pos=[5059, 3]), Data(x=[1369, 1], edge_index=[2, 32909], y=[1], pos=[1369, 3]), Data(x=[1779, 1], edge_index=[2, 43970], y=[1], pos=[1779, 3]), Data(x=[2189, 1], edge_index=[2, 54782], y=[1], pos=[2189, 3]), Data(x=[1369, 1], edge_index=[2, 32855], y=[1], pos=[1369, 3]), Data(x=[2599, 1], edge_index=[2, 65251], y=[1], pos=[2599, 3]), Data(x=[2599, 1], edge_index=[2, 65502], y=[1], pos=[2599, 3]), Data(x=[2599, 1], edge_index=[2, 65293], y=[1], pos=[2599, 3]), Data(x=[1779, 1], edge_index=[2, 43643], y=[1], pos=[1779, 3]), Data(x=[2599, 1], edge_index=[2, 65431], y=[1], pos=[2599, 3]), Data(x=[5059, 1], edge_index=[2, 128732], y=[1], pos=[5059, 3]), Data(x=[1779, 1], edge_index=[2, 43562], y=[1], pos=[1779, 3]), Data(x=[2189, 1], edge_index=[2, 54646], y=[1], pos=[2189, 3]), Data(x=[2599, 1], edge_index=[2, 65476], y=[1], pos=[2599, 3]), Data(x=[1779, 1], edge_index=[2, 43769], y=[1], pos=[1779, 3]), Data(x=[2189, 1], edge_index=[2, 54850], y=[1], pos=[2189, 3]), Data(x=[2599, 1], edge_index=[2, 65312], y=[1], pos=[2599, 3]), Data(x=[1369, 1], edge_index=[2, 32689], y=[1], pos=[1369, 3]), Data(x=[5059, 1], edge_index=[2, 128203], y=[1], pos=[5059, 3]), Data(x=[5059, 1], edge_index=[2, 127888], y=[1], pos=[5059, 3]), Data(x=[2189, 1], edge_index=[2, 54804], y=[1], pos=[2189, 3]), Data(x=[5059, 1], edge_index=[2, 129074], y=[1], pos=[5059, 3]), Data(x=[1779, 1], edge_index=[2, 43805], y=[1], pos=[1779, 3]), Data(x=[1369, 1], edge_index=[2, 33071], y=[1], pos=[1369, 3]), Data(x=[1369, 1], edge_index=[2, 32887], y=[1], pos=[1369, 3]), Data(x=[1779, 1], edge_index=[2, 44034], y=[1], pos=[1779, 3]), Data(x=[5059, 1], edge_index=[2, 128372], y=[1], pos=[5059, 3]), Data(x=[1369, 1], edge_index=[2, 32718], y=[1], pos=[1369, 3]), Data(x=[2189, 1], edge_index=[2, 54721], y=[1], pos=[2189, 3]), Data(x=[1369, 1], edge_index=[2, 32990], y=[1], pos=[1369, 3]), Data(x=[1369, 1], edge_index=[2, 32648], y=[1], pos=[1369, 3]), Data(x=[2189, 1], edge_index=[2, 54628], y=[1], pos=[2189, 3]), Data(x=[2599, 1], edge_index=[2, 65145], y=[1], pos=[2599, 3]), Data(x=[2189, 1], edge_index=[2, 54979], y=[1], pos=[2189, 3]), Data(x=[2599, 1], edge_index=[2, 65465], y=[1], pos=[2599, 3]), Data(x=[5059, 1], edge_index=[2, 128610], y=[1], pos=[5059, 3]), Data(x=[1779, 1], edge_index=[2, 43538], y=[1], pos=[1779, 3]), Data(x=[2189, 1], edge_index=[2, 54633], y=[1], pos=[2189, 3]), Data(x=[1369, 1], edge_index=[2, 32627], y=[1], pos=[1369, 3]), Data(x=[2599, 1], edge_index=[2, 65690], y=[1], pos=[2599, 3]), Data(x=[5059, 1], edge_index=[2, 128493], y=[1], pos=[5059, 3]), Data(x=[2599, 1], edge_index=[2, 65384], y=[1], pos=[2599, 3]), Data(x=[5059, 1], edge_index=[2, 127843], y=[1], pos=[5059, 3]), Data(x=[2189, 1], edge_index=[2, 54737], y=[1], pos=[2189, 3]), Data(x=[2599, 1], edge_index=[2, 65490], y=[1], pos=[2599, 3]), Data(x=[2599, 1], edge_index=[2, 65451], y=[1], pos=[2599, 3]), Data(x=[5059, 1], edge_index=[2, 128564], y=[1], pos=[5059, 3]), Data(x=[5059, 1], edge_index=[2, 128717], y=[1], pos=[5059, 3]), Data(x=[5059, 1], edge_index=[2, 128629], y=[1], pos=[5059, 3]), Data(x=[2599, 1], edge_index=[2, 65322], y=[1], pos=[2599, 3]), Data(x=[2189, 1], edge_index=[2, 54491], y=[1], pos=[2189, 3]), Data(x=[2189, 1], edge_index=[2, 54429], y=[1], pos=[2189, 3]), Data(x=[1369, 1], edge_index=[2, 32710], y=[1], pos=[1369, 3]), Data(x=[2599, 1], edge_index=[2, 65506], y=[1], pos=[2599, 3]), Data(x=[2189, 1], edge_index=[2, 54650], y=[1], pos=[2189, 3]), Data(x=[1369, 1], edge_index=[2, 33032], y=[1], pos=[1369, 3]), Data(x=[2599, 1], edge_index=[2, 65172], y=[1], pos=[2599, 3]), Data(x=[1779, 1], edge_index=[2, 43590], y=[1], pos=[1779, 3]), Data(x=[1779, 1], edge_index=[2, 43701], y=[1], pos=[1779, 3]), Data(x=[5059, 1], edge_index=[2, 129264], y=[1], pos=[5059, 3]), Data(x=[1369, 1], edge_index=[2, 32884], y=[1], pos=[1369, 3]), Data(x=[2599, 1], edge_index=[2, 65560], y=[1], pos=[2599, 3]), Data(x=[5059, 1], edge_index=[2, 128361], y=[1], pos=[5059, 3]), Data(x=[5059, 1], edge_index=[2, 127570], y=[1], pos=[5059, 3]), Data(x=[5059, 1], edge_index=[2, 128804], y=[1], pos=[5059, 3]), Data(x=[5059, 1], edge_index=[2, 128852], y=[1], pos=[5059, 3]), Data(x=[1779, 1], edge_index=[2, 43622], y=[1], pos=[1779, 3]), Data(x=[2599, 1], edge_index=[2, 65112], y=[1], pos=[2599, 3]), Data(x=[2189, 1], edge_index=[2, 54812], y=[1], pos=[2189, 3]), Data(x=[1369, 1], edge_index=[2, 32839], y=[1], pos=[1369, 3]), Data(x=[2599, 1], edge_index=[2, 65378], y=[1], pos=[2599, 3]), Data(x=[5059, 1], edge_index=[2, 128532], y=[1], pos=[5059, 3]), Data(x=[5059, 1], edge_index=[2, 129048], y=[1], pos=[5059, 3]), Data(x=[2189, 1], edge_index=[2, 54484], y=[1], pos=[2189, 3]), Data(x=[2599, 1], edge_index=[2, 65312], y=[1], pos=[2599, 3]), Data(x=[5059, 1], edge_index=[2, 128248], y=[1], pos=[5059, 3]), Data(x=[2189, 1], edge_index=[2, 54639], y=[1], pos=[2189, 3]), Data(x=[5059, 1], edge_index=[2, 127993], y=[1], pos=[5059, 3]), Data(x=[1369, 1], edge_index=[2, 33016], y=[1], pos=[1369, 3]), Data(x=[2189, 1], edge_index=[2, 54598], y=[1], pos=[2189, 3]), Data(x=[2189, 1], edge_index=[2, 54491], y=[1], pos=[2189, 3]), Data(x=[5059, 1], edge_index=[2, 128260], y=[1], pos=[5059, 3]), Data(x=[1369, 1], edge_index=[2, 32804], y=[1], pos=[1369, 3]), Data(x=[2189, 1], edge_index=[2, 54565], y=[1], pos=[2189, 3]), Data(x=[5059, 1], edge_index=[2, 129020], y=[1], pos=[5059, 3]), Data(x=[2189, 1], edge_index=[2, 54858], y=[1], pos=[2189, 3]), Data(x=[2599, 1], edge_index=[2, 65158], y=[1], pos=[2599, 3]), Data(x=[1779, 1], edge_index=[2, 43628], y=[1], pos=[1779, 3]), Data(x=[1369, 1], edge_index=[2, 32828], y=[1], pos=[1369, 3]), Data(x=[5059, 1], edge_index=[2, 128615], y=[1], pos=[5059, 3]), Data(x=[5059, 1], edge_index=[2, 128838], y=[1], pos=[5059, 3]), Data(x=[5059, 1], edge_index=[2, 128368], y=[1], pos=[5059, 3]), Data(x=[2189, 1], edge_index=[2, 54612], y=[1], pos=[2189, 3]), Data(x=[2599, 1], edge_index=[2, 65672], y=[1], pos=[2599, 3]), Data(x=[1369, 1], edge_index=[2, 32787], y=[1], pos=[1369, 3]), Data(x=[2599, 1], edge_index=[2, 65369], y=[1], pos=[2599, 3]), Data(x=[2599, 1], edge_index=[2, 65499], y=[1], pos=[2599, 3]), Data(x=[1779, 1], edge_index=[2, 43688], y=[1], pos=[1779, 3]), Data(x=[2189, 1], edge_index=[2, 54659], y=[1], pos=[2189, 3]), Data(x=[1369, 1], edge_index=[2, 32782], y=[1], pos=[1369, 3]), Data(x=[5059, 1], edge_index=[2, 128773], y=[1], pos=[5059, 3]), Data(x=[5059, 1], edge_index=[2, 129027], y=[1], pos=[5059, 3]), Data(x=[2189, 1], edge_index=[2, 54816], y=[1], pos=[2189, 3]), Data(x=[2189, 1], edge_index=[2, 54613], y=[1], pos=[2189, 3]), Data(x=[5059, 1], edge_index=[2, 128554], y=[1], pos=[5059, 3]), Data(x=[2189, 1], edge_index=[2, 54582], y=[1], pos=[2189, 3]), Data(x=[2599, 1], edge_index=[2, 65516], y=[1], pos=[2599, 3]), Data(x=[2599, 1], edge_index=[2, 65091], y=[1], pos=[2599, 3]), Data(x=[1779, 1], edge_index=[2, 43622], y=[1], pos=[1779, 3]), Data(x=[1779, 1], edge_index=[2, 43745], y=[1], pos=[1779, 3]), Data(x=[2599, 1], edge_index=[2, 65482], y=[1], pos=[2599, 3]), Data(x=[1779, 1], edge_index=[2, 43445], y=[1], pos=[1779, 3]), Data(x=[5059, 1], edge_index=[2, 128166], y=[1], pos=[5059, 3]), Data(x=[2599, 1], edge_index=[2, 65127], y=[1], pos=[2599, 3]), Data(x=[2599, 1], edge_index=[2, 65214], y=[1], pos=[2599, 3]), Data(x=[1369, 1], edge_index=[2, 32739], y=[1], pos=[1369, 3]), Data(x=[2599, 1], edge_index=[2, 65370], y=[1], pos=[2599, 3]), Data(x=[1369, 1], edge_index=[2, 32936], y=[1], pos=[1369, 3]), Data(x=[2599, 1], edge_index=[2, 65294], y=[1], pos=[2599, 3]), Data(x=[5059, 1], edge_index=[2, 128190], y=[1], pos=[5059, 3]), Data(x=[1369, 1], edge_index=[2, 33010], y=[1], pos=[1369, 3]), Data(x=[1779, 1], edge_index=[2, 44029], y=[1], pos=[1779, 3]), Data(x=[1779, 1], edge_index=[2, 43853], y=[1], pos=[1779, 3]), Data(x=[5059, 1], edge_index=[2, 128373], y=[1], pos=[5059, 3]), Data(x=[2599, 1], edge_index=[2, 65097], y=[1], pos=[2599, 3]), Data(x=[2599, 1], edge_index=[2, 65498], y=[1], pos=[2599, 3]), Data(x=[1369, 1], edge_index=[2, 32776], y=[1], pos=[1369, 3]), Data(x=[1779, 1], edge_index=[2, 43927], y=[1], pos=[1779, 3]), Data(x=[2599, 1], edge_index=[2, 65615], y=[1], pos=[2599, 3]), Data(x=[2189, 1], edge_index=[2, 54621], y=[1], pos=[2189, 3]), Data(x=[1779, 1], edge_index=[2, 43544], y=[1], pos=[1779, 3]), Data(x=[2599, 1], edge_index=[2, 65257], y=[1], pos=[2599, 3]), Data(x=[2599, 1], edge_index=[2, 65387], y=[1], pos=[2599, 3]), Data(x=[1369, 1], edge_index=[2, 32601], y=[1], pos=[1369, 3]), Data(x=[1779, 1], edge_index=[2, 44098], y=[1], pos=[1779, 3]), Data(x=[1369, 1], edge_index=[2, 32424], y=[1], pos=[1369, 3]), Data(x=[2189, 1], edge_index=[2, 54517], y=[1], pos=[2189, 3]), Data(x=[5059, 1], edge_index=[2, 128458], y=[1], pos=[5059, 3]), Data(x=[5059, 1], edge_index=[2, 128540], y=[1], pos=[5059, 3]), Data(x=[5059, 1], edge_index=[2, 128002], y=[1], pos=[5059, 3]), Data(x=[2189, 1], edge_index=[2, 54696], y=[1], pos=[2189, 3]), Data(x=[1779, 1], edge_index=[2, 43998], y=[1], pos=[1779, 3]), Data(x=[2189, 1], edge_index=[2, 54488], y=[1], pos=[2189, 3]), Data(x=[2599, 1], edge_index=[2, 65117], y=[1], pos=[2599, 3]), Data(x=[1369, 1], edge_index=[2, 32881], y=[1], pos=[1369, 3]), Data(x=[2599, 1], edge_index=[2, 65211], y=[1], pos=[2599, 3]), Data(x=[1369, 1], edge_index=[2, 32631], y=[1], pos=[1369, 3]), Data(x=[2599, 1], edge_index=[2, 65025], y=[1], pos=[2599, 3]), Data(x=[1369, 1], edge_index=[2, 32931], y=[1], pos=[1369, 3]), Data(x=[1779, 1], edge_index=[2, 43885], y=[1], pos=[1779, 3]), Data(x=[1779, 1], edge_index=[2, 43752], y=[1], pos=[1779, 3]), Data(x=[1779, 1], edge_index=[2, 43746], y=[1], pos=[1779, 3]), Data(x=[2189, 1], edge_index=[2, 54447], y=[1], pos=[2189, 3]), Data(x=[2599, 1], edge_index=[2, 65324], y=[1], pos=[2599, 3]), Data(x=[1369, 1], edge_index=[2, 32655], y=[1], pos=[1369, 3]), Data(x=[1779, 1], edge_index=[2, 43808], y=[1], pos=[1779, 3]), Data(x=[1369, 1], edge_index=[2, 32750], y=[1], pos=[1369, 3]), Data(x=[2189, 1], edge_index=[2, 54310], y=[1], pos=[2189, 3]), Data(x=[2599, 1], edge_index=[2, 65400], y=[1], pos=[2599, 3]), Data(x=[1369, 1], edge_index=[2, 32563], y=[1], pos=[1369, 3]), Data(x=[1779, 1], edge_index=[2, 44145], y=[1], pos=[1779, 3]), Data(x=[2189, 1], edge_index=[2, 54556], y=[1], pos=[2189, 3]), Data(x=[1779, 1], edge_index=[2, 43780], y=[1], pos=[1779, 3]), Data(x=[5059, 1], edge_index=[2, 127793], y=[1], pos=[5059, 3]), Data(x=[1369, 1], edge_index=[2, 32970], y=[1], pos=[1369, 3]), Data(x=[2599, 1], edge_index=[2, 65048], y=[1], pos=[2599, 3]), Data(x=[1779, 1], edge_index=[2, 43763], y=[1], pos=[1779, 3]), Data(x=[1779, 1], edge_index=[2, 43689], y=[1], pos=[1779, 3]), Data(x=[2189, 1], edge_index=[2, 54841], y=[1], pos=[2189, 3]), Data(x=[5059, 1], edge_index=[2, 128960], y=[1], pos=[5059, 3]), Data(x=[5059, 1], edge_index=[2, 128302], y=[1], pos=[5059, 3]), Data(x=[1369, 1], edge_index=[2, 33034], y=[1], pos=[1369, 3]), Data(x=[1779, 1], edge_index=[2, 43921], y=[1], pos=[1779, 3]), Data(x=[2599, 1], edge_index=[2, 65593], y=[1], pos=[2599, 3]), Data(x=[1779, 1], edge_index=[2, 43940], y=[1], pos=[1779, 3]), Data(x=[2189, 1], edge_index=[2, 54744], y=[1], pos=[2189, 3]), Data(x=[1779, 1], edge_index=[2, 43710], y=[1], pos=[1779, 3]), Data(x=[2189, 1], edge_index=[2, 54750], y=[1], pos=[2189, 3]), Data(x=[1369, 1], edge_index=[2, 32995], y=[1], pos=[1369, 3]), Data(x=[5059, 1], edge_index=[2, 128941], y=[1], pos=[5059, 3]), Data(x=[2189, 1], edge_index=[2, 54753], y=[1], pos=[2189, 3]), Data(x=[5059, 1], edge_index=[2, 129209], y=[1], pos=[5059, 3]), Data(x=[5059, 1], edge_index=[2, 128701], y=[1], pos=[5059, 3]), Data(x=[1369, 1], edge_index=[2, 32759], y=[1], pos=[1369, 3]), Data(x=[2599, 1], edge_index=[2, 65539], y=[1], pos=[2599, 3]), Data(x=[2189, 1], edge_index=[2, 54386], y=[1], pos=[2189, 3]), Data(x=[2599, 1], edge_index=[2, 65442], y=[1], pos=[2599, 3]), Data(x=[5059, 1], edge_index=[2, 124286], y=[1], pos=[5059, 3]), Data(x=[2189, 1], edge_index=[2, 54557], y=[1], pos=[2189, 3]), Data(x=[1779, 1], edge_index=[2, 44179], y=[1], pos=[1779, 3]), Data(x=[5059, 1], edge_index=[2, 128548], y=[1], pos=[5059, 3]), Data(x=[1369, 1], edge_index=[2, 32518], y=[1], pos=[1369, 3]), Data(x=[2599, 1], edge_index=[2, 65652], y=[1], pos=[2599, 3]), Data(x=[1779, 1], edge_index=[2, 43778], y=[1], pos=[1779, 3]), Data(x=[2189, 1], edge_index=[2, 54319], y=[1], pos=[2189, 3]), Data(x=[5059, 1], edge_index=[2, 128399], y=[1], pos=[5059, 3]), Data(x=[1779, 1], edge_index=[2, 44096], y=[1], pos=[1779, 3]), Data(x=[2599, 1], edge_index=[2, 65516], y=[1], pos=[2599, 3]), Data(x=[1779, 1], edge_index=[2, 43921], y=[1], pos=[1779, 3]), Data(x=[2599, 1], edge_index=[2, 65223], y=[1], pos=[2599, 3]), Data(x=[5059, 1], edge_index=[2, 128114], y=[1], pos=[5059, 3]), Data(x=[1779, 1], edge_index=[2, 43676], y=[1], pos=[1779, 3]), Data(x=[5059, 1], edge_index=[2, 128524], y=[1], pos=[5059, 3]), Data(x=[5059, 1], edge_index=[2, 129121], y=[1], pos=[5059, 3]), Data(x=[2599, 1], edge_index=[2, 65407], y=[1], pos=[2599, 3]), Data(x=[2599, 1], edge_index=[2, 65156], y=[1], pos=[2599, 3]), Data(x=[2599, 1], edge_index=[2, 65480], y=[1], pos=[2599, 3]), Data(x=[2599, 1], edge_index=[2, 65325], y=[1], pos=[2599, 3]), Data(x=[1779, 1], edge_index=[2, 43976], y=[1], pos=[1779, 3]), Data(x=[5059, 1], edge_index=[2, 129381], y=[1], pos=[5059, 3]), Data(x=[5059, 1], edge_index=[2, 123764], y=[1], pos=[5059, 3]), Data(x=[1369, 1], edge_index=[2, 32639], y=[1], pos=[1369, 3]), Data(x=[5059, 1], edge_index=[2, 127757], y=[1], pos=[5059, 3]), Data(x=[2599, 1], edge_index=[2, 65400], y=[1], pos=[2599, 3]), Data(x=[5059, 1], edge_index=[2, 129197], y=[1], pos=[5059, 3])]\n"
     ]
    },
    {
     "ename": "AttributeError",
     "evalue": "'list' object has no attribute 'num_node_features'",
     "output_type": "error",
     "traceback": [
      "\u001b[0;31m---------------------------------------------------------------------------\u001b[0m",
      "\u001b[0;31mAttributeError\u001b[0m                            Traceback (most recent call last)",
      "Cell \u001b[0;32mIn[6], line 20\u001b[0m\n\u001b[1;32m     15\u001b[0m val_loader \u001b[38;5;241m=\u001b[39m DataLoader(val_dataset, batch_size\u001b[38;5;241m=\u001b[39m\u001b[38;5;241m16\u001b[39m, shuffle\u001b[38;5;241m=\u001b[39m\u001b[38;5;28;01mFalse\u001b[39;00m)\n\u001b[1;32m     16\u001b[0m test_loader \u001b[38;5;241m=\u001b[39m DataLoader(test_dataset, batch_size\u001b[38;5;241m=\u001b[39m\u001b[38;5;241m16\u001b[39m, shuffle\u001b[38;5;241m=\u001b[39m\u001b[38;5;28;01mFalse\u001b[39;00m)\n\u001b[1;32m     19\u001b[0m data_details \u001b[38;5;241m=\u001b[39m {\n\u001b[0;32m---> 20\u001b[0m     \u001b[38;5;124m\"\u001b[39m\u001b[38;5;124mnum_node_features\u001b[39m\u001b[38;5;124m\"\u001b[39m: \u001b[43mtrain_dataset\u001b[49m\u001b[38;5;241;43m.\u001b[39;49m\u001b[43mnum_node_features\u001b[49m,\n\u001b[1;32m     21\u001b[0m     \u001b[38;5;124m\"\u001b[39m\u001b[38;5;124mnum_edge_features\u001b[39m\u001b[38;5;124m\"\u001b[39m: train_dataset\u001b[38;5;241m.\u001b[39mnum_edge_features,\n\u001b[1;32m     22\u001b[0m     \u001b[38;5;124m\"\u001b[39m\u001b[38;5;124mnum_node_labels\u001b[39m\u001b[38;5;124m\"\u001b[39m: train_dataset\u001b[38;5;241m.\u001b[39mnum_node_labels,\n\u001b[1;32m     23\u001b[0m     \u001b[38;5;124m\"\u001b[39m\u001b[38;5;124mnum_edge_labels\u001b[39m\u001b[38;5;124m\"\u001b[39m: train_dataset\u001b[38;5;241m.\u001b[39mnum_edge_labels\n\u001b[1;32m     24\u001b[0m }\n\u001b[1;32m     27\u001b[0m \u001b[38;5;66;03m# Log all the details about the data to W&B.\u001b[39;00m\n\u001b[1;32m     28\u001b[0m wandb\u001b[38;5;241m.\u001b[39mlog(data_details) \u001b[38;5;66;03m#🪄🐝\u001b[39;00m\n",
      "\u001b[0;31mAttributeError\u001b[0m: 'list' object has no attribute 'num_node_features'"
     ]
    }
   ],
   "source": [
    "import torch\n",
    "from torch_geometric.loader import DataLoader\n",
    "%run visualize.py\n",
    "from visualize import GraphVisualization\n",
    "\n",
    "# Load preprocessed datasets\n",
    "train_dataset = torch.load(\"data/train_dataset.pt\")\n",
    "val_dataset = torch.load(\"data/val_dataset.pt\")\n",
    "test_dataset = torch.load(\"data/test_dataset.pt\")\n",
    "\n",
    "print(train_dataset)\n",
    "\n",
    "# Create DataLoaders\n",
    "train_loader = DataLoader(train_dataset, batch_size=16, shuffle=True)\n",
    "val_loader = DataLoader(val_dataset, batch_size=16, shuffle=False)\n",
    "test_loader = DataLoader(test_dataset, batch_size=16, shuffle=False)\n",
    "\n",
    "\n",
    "data_details = {\n",
    "    \"num_node_features\": train_dataset.num_node_features,\n",
    "    \"num_edge_features\": train_dataset.num_edge_features,\n",
    "    \"num_node_labels\": train_dataset.num_node_labels,\n",
    "    \"num_edge_labels\": train_dataset.num_edge_labels\n",
    "}\n",
    "\n",
    "\n",
    "# Log all the details about the data to W&B.\n",
    "wandb.log(data_details) #🪄🐝\n",
    "\n",
    "    \n",
    "def create_graph(graph):\n",
    "    g = to_networkx(graph)\n",
    "    pos = nx.spring_layout(g)\n",
    "    vis = GraphVisualization(\n",
    "        g, pos, node_text_position='top left', node_size=20,\n",
    "    )\n",
    "    fig = vis.create_figure()\n",
    "    return fig\n",
    "\n",
    "fig = create_graph(train_dataset[0])\n",
    "fig.show()\n",
    "\n",
    "\n",
    "# Log exploratory visualizations for each data point to W&B\n",
    "table = wandb.Table(columns=[\"Graph\", \"Number of Nodes\", \"Number of Edges\", \"Label\"])\n",
    "for graph in train_dataset:\n",
    "    fig = create_graph(graph)\n",
    "    n_nodes = graph.num_nodes\n",
    "    n_edges = graph.num_edges\n",
    "    label = graph.y.item()\n",
    "\n",
    "table.add_data(wandb.Html(plotly.io.to_html(fig)), n_nodes, n_edges, label)\n",
    "wandb.log({\"data\": table})\n",
    "\n",
    "\n",
    "# Log the dataset to W&B as an artifact.\n",
    "dataset_artifact = wandb.Artifact(name=\"KLF1_K_d\", type=\"dataset\", metadata=data_details)\n",
    "dataset_artifact.add_dir(\"./data\")\n",
    "wandb.log_artifact(dataset_artifact)\n",
    "\n",
    "# End the W&B run\n",
    "wandb.finish()"
   ]
  },
  {
   "cell_type": "code",
   "execution_count": 6,
   "metadata": {},
   "outputs": [],
   "source": [
    "import torch.nn.functional as F\n",
    "from torch_geometric.nn import GCNConv, global_mean_pool\n",
    "import torch.nn as nn\n",
    "\n",
    "class ProteinDNAGNN(torch.nn.Module):\n",
    "    def __init__(self, input_dim, hidden_dim, output_dim=1):\n",
    "        super(ProteinDNAGNN, self).__init__()\n",
    "\n",
    "        # Graph convolutional layers\n",
    "        self.conv1 = GCNConv(input_dim, hidden_dim)\n",
    "        self.conv2 = GCNConv(hidden_dim, hidden_dim)\n",
    "        self.conv3 = GCNConv(hidden_dim, hidden_dim)\n",
    "\n",
    "        # Fully connected layer for regression\n",
    "        self.fc = nn.Linear(hidden_dim, output_dim)\n",
    "\n",
    "    def forward(self, x, edge_index, batch):\n",
    "        x = F.relu(self.conv1(x, edge_index))\n",
    "        x = F.relu(self.conv2(x, edge_index))\n",
    "        x = F.relu(self.conv3(x, edge_index))\n",
    "\n",
    "        # Global pooling to get a graph-level representation\n",
    "        x = global_mean_pool(x, batch)\n",
    "\n",
    "        # Output the binding affinity prediction\n",
    "        return self.fc(x)\n"
   ]
  },
  {
   "cell_type": "markdown",
   "metadata": {},
   "source": [
    "# Initialize the model"
   ]
  },
  {
   "cell_type": "code",
   "execution_count": 7,
   "metadata": {},
   "outputs": [],
   "source": [
    "\n",
    "device = torch.device('cuda' if torch.cuda.is_available() else 'cpu')\n",
    "input_dim = train_dataset[0].num_node_features \n",
    "hidden_dim = 32  \n",
    "\n",
    "model = ProteinDNAGNN(input_dim, hidden_dim).to(device[3])\n",
    "optimizer = torch.optim.Adam(model.parameters(), lr=0.001)\n",
    "criterion = nn.MSELoss()  # Mean Squared Error for regression\n"
   ]
  },
  {
   "cell_type": "code",
   "execution_count": 8,
   "metadata": {},
   "outputs": [],
   "source": [
    "def train():\n",
    "    model.train()\n",
    "    total_loss = 0\n",
    "    for data in train_loader:\n",
    "        data = data.to(device)\n",
    "        optimizer.zero_grad()\n",
    "        out = model(data.x, data.edge_index, data.batch)\n",
    "        loss = criterion(out, data.y)\n",
    "        loss.backward()\n",
    "        optimizer.step()\n",
    "        total_loss += loss.item()\n",
    "    return total_loss / len(train_loader)\n",
    "\n",
    "def validate():\n",
    "    model.eval()\n",
    "    total_loss = 0\n",
    "    with torch.no_grad():\n",
    "        for data in val_loader:\n",
    "            data = data.to(device)\n",
    "            out = model(data.x, data.edge_index, data.batch)\n",
    "            loss = criterion(out, data.y)\n",
    "            total_loss += loss.item()\n",
    "    return total_loss / len(val_loader)\n"
   ]
  },
  {
   "cell_type": "code",
   "execution_count": null,
   "metadata": {},
   "outputs": [],
   "source": [
    "epochs = 1000  # You can increase this based on your dataset size\n",
    "\n",
    "for epoch in range(1, epochs + 1):\n",
    "    train_loss = train()\n",
    "    val_loss = validate()\n",
    "    \n",
    "    if epoch % 10 == 0 or epoch == 1:\n",
    "        print(f\"Epoch {epoch}: Train Loss = {train_loss:.4f}, Val Loss = {val_loss:.4f}\")\n",
    "\n",
    "# Save the trained model\n",
    "torch.save(model.state_dict(), \"protein_dna_gnn_model.pth\")\n"
   ]
  },
  {
   "cell_type": "code",
   "execution_count": null,
   "metadata": {},
   "outputs": [],
   "source": [
    "def test():\n",
    "    model.eval()\n",
    "    total_loss = 0\n",
    "    with torch.no_grad():\n",
    "        for data in test_loader:\n",
    "            data = data.to(device)\n",
    "            out = model(data.x, data.edge_index, data.batch)\n",
    "            loss = criterion(out, data.y)\n",
    "            total_loss += loss.item()\n",
    "    return total_loss / len(test_loader)\n",
    "\n",
    "test_loss = test()\n",
    "print(f\"Test Loss: {test_loss:.4f}\")\n"
   ]
  },
  {
   "cell_type": "markdown",
   "metadata": {},
   "source": [
    "# Make Predictions on New Data"
   ]
  },
  {
   "cell_type": "code",
   "execution_count": null,
   "metadata": {},
   "outputs": [],
   "source": [
    "def predict(data):\n",
    "    model.eval()\n",
    "    data = data.to(device)\n",
    "    with torch.no_grad():\n",
    "        out = model(data.x, data.edge_index, data.batch)\n",
    "    return out.item()\n",
    "\n",
    "# Example prediction on a single protein-DNA complex\n",
    "sample_data = test_dataset[0]  # Take the first test sample\n",
    "predicted_affinity = predict(sample_data)\n",
    "print(f\"Predicted Binding Affinity: {predicted_affinity:.4f}\")\n"
   ]
  }
 ],
 "metadata": {
  "kernelspec": {
   "display_name": "base",
   "language": "python",
   "name": "python3"
  },
  "language_info": {
   "codemirror_mode": {
    "name": "ipython",
    "version": 3
   },
   "file_extension": ".py",
   "mimetype": "text/x-python",
   "name": "python",
   "nbconvert_exporter": "python",
   "pygments_lexer": "ipython3",
   "version": "3.12.2"
  }
 },
 "nbformat": 4,
 "nbformat_minor": 2
}
